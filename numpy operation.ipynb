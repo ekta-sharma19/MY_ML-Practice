{
 "cells": [
  {
   "cell_type": "code",
   "execution_count": 1,
   "metadata": {},
   "outputs": [],
   "source": [
    "import numpy as np\n"
   ]
  },
  {
   "cell_type": "code",
   "execution_count": 2,
   "metadata": {},
   "outputs": [],
   "source": [
    "a = np.array([3,4])\n",
    "b = np.array([8,9])"
   ]
  },
  {
   "cell_type": "code",
   "execution_count": 3,
   "metadata": {},
   "outputs": [
    {
     "name": "stdout",
     "output_type": "stream",
     "text": [
      "[1.09861229 1.38629436]\n"
     ]
    }
   ],
   "source": [
    "z = np.log(a) \n",
    "print(z)"
   ]
  },
  {
   "cell_type": "code",
   "execution_count": 5,
   "metadata": {},
   "outputs": [
    {
     "name": "stdout",
     "output_type": "stream",
     "text": [
      "[20.08553692 54.59815003]\n"
     ]
    }
   ],
   "source": [
    "z = np.exp(a)\n",
    "print(z)"
   ]
  },
  {
   "cell_type": "code",
   "execution_count": 6,
   "metadata": {},
   "outputs": [
    {
     "name": "stdout",
     "output_type": "stream",
     "text": [
      "[1.73205081 2.        ]\n"
     ]
    }
   ],
   "source": [
    "z = np.sqrt(a)\n",
    "print(z)"
   ]
  },
  {
   "cell_type": "code",
   "execution_count": 8,
   "metadata": {},
   "outputs": [
    {
     "name": "stdout",
     "output_type": "stream",
     "text": [
      "60\n",
      "60\n"
     ]
    }
   ],
   "source": [
    "z = np.dot(a,b) # inner product of vectors\n",
    "print(z)\n",
    "z = a.dot(b)\n",
    "print(z)"
   ]
  },
  {
   "cell_type": "code",
   "execution_count": 9,
   "metadata": {},
   "outputs": [
    {
     "name": "stdout",
     "output_type": "stream",
     "text": [
      "5.0\n"
     ]
    }
   ],
   "source": [
    "z = np.linalg.norm(a) #to find magnitude of a\n",
    "print(z)"
   ]
  },
  {
   "cell_type": "code",
   "execution_count": 10,
   "metadata": {},
   "outputs": [
    {
     "name": "stdout",
     "output_type": "stream",
     "text": [
      "144.49913494550754\n"
     ]
    }
   ],
   "source": [
    "cosangle = a.dot(b) / np.linalg.norm(a) * np.linalg.norm(b) #angle between two veectors.\n",
    "print(cosangle)"
   ]
  },
  {
   "cell_type": "code",
   "execution_count": 12,
   "metadata": {},
   "outputs": [
    {
     "name": "stdout",
     "output_type": "stream",
     "text": [
      "[[1 2 3]\n",
      " [4 5 6]]\n",
      "1\n",
      "[[1 2 3]\n",
      " [4 5 6]]\n",
      "[[1 4]\n",
      " [2 5]\n",
      " [3 6]]\n"
     ]
    }
   ],
   "source": [
    "a = np.matrix([[1,2,3],[4,5,6]]) #convert a matrix into array\n",
    "print(a)\n",
    "print(a[0,0])\n",
    "x = np.array(a)\n",
    "print(x)\n",
    "print(x.T) #transpose"
   ]
  },
  {
   "cell_type": "code",
   "execution_count": 13,
   "metadata": {},
   "outputs": [
    {
     "name": "stdout",
     "output_type": "stream",
     "text": [
      "[0. 0. 0. 0. 0.]\n"
     ]
    }
   ],
   "source": [
    "z = np.zeros(5)\n",
    "print(z) # 1-d array of zeros."
   ]
  },
  {
   "cell_type": "code",
   "execution_count": 14,
   "metadata": {},
   "outputs": [
    {
     "name": "stdout",
     "output_type": "stream",
     "text": [
      "[[0. 0.]\n",
      " [0. 0.]]\n"
     ]
    }
   ],
   "source": [
    "m = np.zeros((2,2)) #5×5 matrix of zeros\n",
    "print(m)\n",
    "\n"
   ]
  },
  {
   "cell_type": "code",
   "execution_count": 15,
   "metadata": {},
   "outputs": [
    {
     "name": "stdout",
     "output_type": "stream",
     "text": [
      "[[1. 1. 1.]\n",
      " [1. 1. 1.]\n",
      " [1. 1. 1.]]\n",
      "[[0.25221964 0.41678529]\n",
      " [0.68506547 0.97417113]]\n",
      "[[0.60410671 0.03645504]\n",
      " [0.37645026 0.63693386]]\n",
      "0.41348646904113706\n",
      "0.0574472971798928\n"
     ]
    }
   ],
   "source": [
    "#for 1's\n",
    "o = np.ones((3,3))\n",
    "print(o)\n",
    "\n",
    "#no from random varuable b/w 0 & 1\n",
    "r = np.random.random((2,2))\n",
    "print(r)  \n",
    "\n",
    "#no from gaussian distribution\n",
    "#with mean 0 and variance 1\n",
    "h = np.random.randn(2,2)\n",
    "print(h)\n",
    "\n",
    "#for mean and variance\n",
    "print(h.mean())\n",
    "print(h.var())\n",
    "\n"
   ]
  },
  {
   "cell_type": "code",
   "execution_count": 16,
   "metadata": {},
   "outputs": [
    {
     "name": "stdout",
     "output_type": "stream",
     "text": [
      "[[ 34  43]\n",
      " [ 26  32]\n",
      " [120 151]]\n",
      "[[-1.57142857 -0.42857143  0.57142857]\n",
      " [ 1.71428571  1.28571429 -0.71428571]\n",
      " [-0.28571429 -0.71428571  0.28571429]]\n",
      "[[ 1.00000000e+00 -3.33066907e-16  2.22044605e-16]\n",
      " [-1.66533454e-16  1.00000000e+00  2.22044605e-16]\n",
      " [ 2.77555756e-16  3.33066907e-16  1.00000000e+00]]\n"
     ]
    }
   ],
   "source": [
    "p = np.array([[1,2,3],[2,2,1],[6,7,9]])\n",
    "q = np.array([[4,5],[6,7],[6,8]])\n",
    "\n",
    "r = p.dot(q)\n",
    "print(r)\n",
    "\n",
    "#to find inverse\n",
    "pinv = np.linalg.inv(p)\n",
    "print(pinv)\n",
    "\n",
    "# to check if inverse is correct\n",
    " #we multiply it by array\n",
    "#if we get identity matrix thn right\n",
    "\n",
    "correct = p.dot(pinv)\n",
    "print(correct)\n",
    "\n"
   ]
  },
  {
   "cell_type": "code",
   "execution_count": null,
   "metadata": {},
   "outputs": [],
   "source": []
  }
 ],
 "metadata": {
  "kernelspec": {
   "display_name": "Python 3",
   "language": "python",
   "name": "python3"
  },
  "language_info": {
   "codemirror_mode": {
    "name": "ipython",
    "version": 3
   },
   "file_extension": ".py",
   "mimetype": "text/x-python",
   "name": "python",
   "nbconvert_exporter": "python",
   "pygments_lexer": "ipython3",
   "version": "3.7.2"
  }
 },
 "nbformat": 4,
 "nbformat_minor": 2
}
