{
 "cells": [
  {
   "cell_type": "code",
   "execution_count": 5,
   "metadata": {
    "collapsed": true
   },
   "outputs": [
    {
     "data": {
      "text/plain": [
       "'An iterator is an object that is used to  iterate through an iterable element.Most of the objects of Python are iterable. \\nIn python, all the sequences like Python String,List,Dictionary are iterable.Now we will discuss what is iterator...lets take an \\nexample..\\neg:-A group of 5 boys are standing in a line. Your are pointing at the first boy and ask him about his name. Then, he replied. \\nAfter that, \\nyou ask the next boy and so on.you are the Iterator and the group of boys is the iterable element.\\n\\n-> iter() and next() there are two iteraote protocol.\\n \\n . iter() function is used to create an iterator of an iterable element. \\n . next() function is used to iterate to the next element.'"
      ]
     },
     "execution_count": 5,
     "metadata": {},
     "output_type": "execute_result"
    }
   ],
   "source": [
    "#Iterators with Example:-\n",
    "\"\"\"An iterator is an object that is used to  iterate through an iterable element.Most of the objects of Python are iterable. \n",
    "In python, all the sequences like Python String,List,Dictionary are iterable.Now we will discuss what is iterator...lets take an \n",
    "example..\n",
    "eg:-A group of 5 boys are standing in a line. Your are pointing at the first boy and ask him about his name. Then, he replied. \n",
    "After that, \n",
    "you ask the next boy and so on.you are the Iterator and the group of boys is the iterable element.\n",
    "\n",
    "-> iter() and next() there are two iteraote protocol.\n",
    " \n",
    " . iter() function is used to create an iterator of an iterable element. \n",
    " . next() function is used to iterate to the next element.\"\"\""
   ]
  },
  {
   "cell_type": "code",
   "execution_count": 6,
   "metadata": {},
   "outputs": [
    {
     "name": "stdout",
     "output_type": "stream",
     "text": [
      "Boy 1\n",
      "Boy 2\n",
      "Boy 3\n",
      "Boy 4\n",
      "Boy 5\n"
     ]
    },
    {
     "ename": "StopIteration",
     "evalue": "",
     "output_type": "error",
     "traceback": [
      "\u001b[1;31m---------------------------------------------------------------------------\u001b[0m",
      "\u001b[1;31mStopIteration\u001b[0m                             Traceback (most recent call last)",
      "\u001b[1;32m<ipython-input-6-10865dd8fd27>\u001b[0m in \u001b[0;36m<module>\u001b[1;34m\u001b[0m\n\u001b[0;32m     26\u001b[0m \u001b[1;31m# point the next boy, but there is no boy left\u001b[0m\u001b[1;33m\u001b[0m\u001b[1;33m\u001b[0m\u001b[1;33m\u001b[0m\u001b[0m\n\u001b[0;32m     27\u001b[0m \u001b[1;31m# so raise 'StopIteration' exception\u001b[0m\u001b[1;33m\u001b[0m\u001b[1;33m\u001b[0m\u001b[1;33m\u001b[0m\u001b[0m\n\u001b[1;32m---> 28\u001b[1;33m \u001b[0moutput\u001b[0m \u001b[1;33m=\u001b[0m \u001b[0mnext\u001b[0m\u001b[1;33m(\u001b[0m\u001b[0miterator_you\u001b[0m\u001b[1;33m)\u001b[0m\u001b[1;33m\u001b[0m\u001b[1;33m\u001b[0m\u001b[0m\n\u001b[0m\u001b[0;32m     29\u001b[0m \u001b[1;31m# This print will not execute\u001b[0m\u001b[1;33m\u001b[0m\u001b[1;33m\u001b[0m\u001b[1;33m\u001b[0m\u001b[0m\n\u001b[0;32m     30\u001b[0m \u001b[0mprint\u001b[0m\u001b[1;33m(\u001b[0m\u001b[0moutput\u001b[0m\u001b[1;33m)\u001b[0m\u001b[1;33m\u001b[0m\u001b[1;33m\u001b[0m\u001b[0m\n",
      "\u001b[1;31mStopIteration\u001b[0m: "
     ]
    }
   ],
   "source": [
    "#example:\n",
    "l1=['Boy 1', 'Boy 2', 'Boy 3', 'Boy 4', 'Boy 5']\n",
    "\n",
    "iterator_you = iter(l1)\n",
    "\n",
    "# point the first boy\n",
    "output = next(iterator_you)\n",
    "print(output)\n",
    "\n",
    "# the second boy\n",
    "output = next(iterator_you)\n",
    "print(output)\n",
    "\n",
    "# the third boy\n",
    "output = next(iterator_you)\n",
    "print(output)\n",
    "\n",
    "#  the fourth boy\n",
    "output = next(iterator_you)\n",
    "print(output)\n",
    "\n",
    "# the fifth boy\n",
    "output = next(iterator_you)\n",
    "print(output)\n",
    "\n",
    "# point the next boy, but there is no boy left\n",
    "# so raise 'StopIteration' exception\n",
    "output = next(iterator_you)\n",
    "print(output)"
   ]
  },
  {
   "cell_type": "code",
   "execution_count": 7,
   "metadata": {},
   "outputs": [
    {
     "name": "stdout",
     "output_type": "stream",
     "text": [
      "[2, 4, 6, 8]\n"
     ]
    }
   ],
   "source": [
    "# Map() with example:-\n",
    "\"\"\"map() function returns a list of the results after applying the given function to each item of a given iterable (list, \n",
    "tuple etc.)\n",
    "Syntax :\n",
    "        map(fun, iter)\n",
    "\n",
    "fun : It is a function to which map passes each element of given iterable.\n",
    "iter : It is a iterable which is to be mapped.\"\"\"\n",
    "#example:-\n",
    "\n",
    "def addition(n): \n",
    "    return n + n \n",
    "  \n",
    "# We double all numbers using map() \n",
    "numbers = (1, 2, 3, 4) \n",
    "result = map(addition, numbers) \n",
    "print(list(result)) "
   ]
  },
  {
   "cell_type": "code",
   "execution_count": 8,
   "metadata": {},
   "outputs": [
    {
     "data": {
      "text/plain": [
       "10"
      ]
     },
     "execution_count": 8,
     "metadata": {},
     "output_type": "execute_result"
    }
   ],
   "source": [
    "# Reduce() function with example\n",
    "\"\"\"The reduce() function accepts a function and a sequence and returns a single value calculated as follows:;-\n",
    "\n",
    "\n",
    ". Initially, the function is called with the first two items from the sequence and the result is returned.\n",
    ". The function is then called again with the result obtained in step 1 and the next value in the sequence. This process keeps\n",
    "  repeating until there are items in the sequence.\n",
    "  \n",
    "  syntax: reduce(function, sequence[, initial]) -> value\"\"\"\n",
    "\n",
    "#example:-\n",
    "from functools import reduce\n",
    "def do_sum(x1, x2):\n",
    "    return x1 + x2\n",
    "reduce(do_sum, [1, 2, 3, 4])\n",
    "\n",
    "#Explain:-\n",
    "\"\"\"This reduce()  call perform the following operation:\n",
    "(((1 + 2) + 3) + 4) => 10"
   ]
  },
  {
   "cell_type": "code",
   "execution_count": null,
   "metadata": {},
   "outputs": [],
   "source": []
  },
  {
   "cell_type": "code",
   "execution_count": null,
   "metadata": {},
   "outputs": [],
   "source": []
  }
 ],
 "metadata": {
  "kernelspec": {
   "display_name": "Python 3",
   "language": "python",
   "name": "python3"
  },
  "language_info": {
   "codemirror_mode": {
    "name": "ipython",
    "version": 3
   },
   "file_extension": ".py",
   "mimetype": "text/x-python",
   "name": "python",
   "nbconvert_exporter": "python",
   "pygments_lexer": "ipython3",
   "version": "3.7.1"
  }
 },
 "nbformat": 4,
 "nbformat_minor": 2
}
