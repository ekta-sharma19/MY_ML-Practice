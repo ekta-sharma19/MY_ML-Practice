{
 "cells": [
  {
   "cell_type": "code",
   "execution_count": 1,
   "metadata": {},
   "outputs": [
    {
     "name": "stdout",
     "output_type": "stream",
     "text": [
      "1\n",
      "1\n",
      "2\n",
      "3\n",
      "5\n",
      "8\n",
      "13\n",
      "21\n",
      "34\n",
      "55\n"
     ]
    }
   ],
   "source": [
    "#recusive fibonacci (time consuming)\n",
    "def fib(n):\n",
    "    if n==1 or n==2:\n",
    "        return 1\n",
    "    elif n>2:\n",
    "        return fib(n-1) + fib(n-2)\n",
    "for n in range(1,11):\n",
    "    print(fib(n))\n",
    "    \n",
    "    "
   ]
  },
  {
   "cell_type": "code",
   "execution_count": null,
   "metadata": {},
   "outputs": [],
   "source": [
    "\"\"\"Memoization:-\n",
    "(the idea behind memoization is simple. store the value form recent function call,\n",
    "so future call do not have to repeat the work.)\n",
    "their are 2 ways to do:\n",
    "1. explicitly\n",
    "2. using python tool\"\"\""
   ]
  },
  {
   "cell_type": "code",
   "execution_count": 2,
   "metadata": {},
   "outputs": [
    {
     "name": "stdout",
     "output_type": "stream",
     "text": [
      "1\n",
      "1\n",
      "2\n",
      "3\n",
      "5\n",
      "8\n",
      "13\n",
      "21\n",
      "34\n",
      "55\n"
     ]
    }
   ],
   "source": [
    "\"\"\"\"EXPLICITLY:-\"\"\"\n",
    "fibonacci_cache={}  # create a dictionary to store the values\n",
    "def fibonacci(n):\n",
    "    \n",
    "    #if we have cached the value then return it\n",
    "    if n in fibonacci_cache:\n",
    "        return fibonacci_cache[n]\n",
    "   \n",
    "    #compute the nth term\n",
    "    if n==1 or n==2:\n",
    "        return 1\n",
    "    elif n>2:\n",
    "        return fibonacci(n-1) + fibonacci(n-2)\n",
    "    \n",
    "    #cache the value and retuen it\n",
    "    fibonacci_cache[n]=value\n",
    "    return value\n",
    "\n",
    "for n in range(1,11):\n",
    "    print(fibonacci(n))\n",
    "    "
   ]
  },
  {
   "cell_type": "code",
   "execution_count": 3,
   "metadata": {},
   "outputs": [
    {
     "name": "stdout",
     "output_type": "stream",
     "text": [
      "1\n",
      "1\n",
      "2\n",
      "3\n",
      "5\n",
      "8\n",
      "13\n",
      "21\n",
      "34\n",
      "55\n"
     ]
    }
   ],
   "source": [
    "\"\"\"Using Python Tool lru_cache\"\"\"\n",
    "\n",
    "from functools import lru_cache  #Least Recent Used Cache\n",
    "@lru_cache(maxsize=None)    #maximum size of cache is 1000,by default\n",
    "def fibonacci(n):\n",
    "    if n==1 or n==2:\n",
    "        return 1\n",
    "    elif n>2:\n",
    "        return fibonacci(n-1) + fibonacci(n-2)\n",
    "for n in range(1,11):\n",
    "    print(fibonacci(n))"
   ]
  },
  {
   "cell_type": "code",
   "execution_count": null,
   "metadata": {},
   "outputs": [],
   "source": []
  },
  {
   "cell_type": "code",
   "execution_count": null,
   "metadata": {},
   "outputs": [],
   "source": []
  },
  {
   "cell_type": "code",
   "execution_count": null,
   "metadata": {},
   "outputs": [],
   "source": []
  },
  {
   "cell_type": "code",
   "execution_count": null,
   "metadata": {},
   "outputs": [],
   "source": []
  }
 ],
 "metadata": {
  "kernelspec": {
   "display_name": "Python 3",
   "language": "python",
   "name": "python3"
  },
  "language_info": {
   "codemirror_mode": {
    "name": "ipython",
    "version": 3
   },
   "file_extension": ".py",
   "mimetype": "text/x-python",
   "name": "python",
   "nbconvert_exporter": "python",
   "pygments_lexer": "ipython3",
   "version": "3.7.1"
  }
 },
 "nbformat": 4,
 "nbformat_minor": 2
}
